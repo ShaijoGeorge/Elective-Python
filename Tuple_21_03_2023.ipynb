{
  "nbformat": 4,
  "nbformat_minor": 0,
  "metadata": {
    "colab": {
      "provenance": [],
      "authorship_tag": "ABX9TyOZbuXOV/okhDyRhSrWXHaE",
      "include_colab_link": true
    },
    "kernelspec": {
      "name": "python3",
      "display_name": "Python 3"
    },
    "language_info": {
      "name": "python"
    }
  },
  "cells": [
    {
      "cell_type": "markdown",
      "metadata": {
        "id": "view-in-github",
        "colab_type": "text"
      },
      "source": [
        "<a href=\"https://colab.research.google.com/github/ShaijoGeorge/Elective-Python/blob/main/Tuple_21_03_2023.ipynb\" target=\"_parent\"><img src=\"https://colab.research.google.com/assets/colab-badge.svg\" alt=\"Open In Colab\"/></a>"
      ]
    },
    {
      "cell_type": "code",
      "execution_count": 1,
      "metadata": {
        "id": "PbBSbV6kqe4M"
      },
      "outputs": [],
      "source": [
        "#store multiple data\n",
        "#ordered\n",
        "#unchangable\n",
        "#allow duplicate values"
      ]
    },
    {
      "cell_type": "code",
      "source": [
        "tuple1=(\"Apple\",\"Banana\",\"Cherry\")"
      ],
      "metadata": {
        "id": "FxL66oubq-o-"
      },
      "execution_count": 3,
      "outputs": []
    },
    {
      "cell_type": "code",
      "source": [
        "#tuple length\n",
        "len(tuple1)"
      ],
      "metadata": {
        "colab": {
          "base_uri": "https://localhost:8080/"
        },
        "id": "MHuqj5DXrXCG",
        "outputId": "16f3c2a5-cf9e-41f0-b7ca-9e510def8096"
      },
      "execution_count": 4,
      "outputs": [
        {
          "output_type": "execute_result",
          "data": {
            "text/plain": [
              "3"
            ]
          },
          "metadata": {},
          "execution_count": 4
        }
      ]
    },
    {
      "cell_type": "code",
      "source": [
        "tuple2=(\"Apple\")"
      ],
      "metadata": {
        "id": "-sbbKwf9roAF"
      },
      "execution_count": 5,
      "outputs": []
    },
    {
      "cell_type": "code",
      "source": [
        "print(tuple2)"
      ],
      "metadata": {
        "colab": {
          "base_uri": "https://localhost:8080/"
        },
        "id": "DaTRHgFtrvdC",
        "outputId": "66e05bb5-47da-4186-b4bf-b6f6dfd0ee0e"
      },
      "execution_count": 6,
      "outputs": [
        {
          "output_type": "stream",
          "name": "stdout",
          "text": [
            "Apple\n"
          ]
        }
      ]
    },
    {
      "cell_type": "code",
      "source": [
        "tuple2=(\"Apple\",)"
      ],
      "metadata": {
        "id": "L6mpY93nr1K0"
      },
      "execution_count": 7,
      "outputs": []
    },
    {
      "cell_type": "code",
      "source": [
        "print(tuple2)"
      ],
      "metadata": {
        "colab": {
          "base_uri": "https://localhost:8080/"
        },
        "id": "1qZFcn7fr8Cv",
        "outputId": "fc5c0791-da29-4039-c63b-b89f388a2bea"
      },
      "execution_count": 8,
      "outputs": [
        {
          "output_type": "stream",
          "name": "stdout",
          "text": [
            "('Apple',)\n"
          ]
        }
      ]
    },
    {
      "cell_type": "code",
      "source": [
        "#make a tuple using cunstructor\n",
        "tuple3=tuple((\"Apple\",\"Mango\",\"Banana\"))"
      ],
      "metadata": {
        "id": "LGuOzaMHr-pY"
      },
      "execution_count": 9,
      "outputs": []
    },
    {
      "cell_type": "code",
      "source": [
        "print(tuple3)"
      ],
      "metadata": {
        "colab": {
          "base_uri": "https://localhost:8080/"
        },
        "id": "tw4eZuZ5s90U",
        "outputId": "a2790816-8a16-4c88-cacb-5739cea17336"
      },
      "execution_count": 10,
      "outputs": [
        {
          "output_type": "stream",
          "name": "stdout",
          "text": [
            "('Apple', 'Mango', 'Banana')\n"
          ]
        }
      ]
    },
    {
      "cell_type": "code",
      "source": [
        "#searching elements\n",
        "if \"Cherry\" in tuple1:\n",
        "  print(\"Element Available!\")"
      ],
      "metadata": {
        "colab": {
          "base_uri": "https://localhost:8080/"
        },
        "id": "padQmYqhtAYp",
        "outputId": "340bb385-fb8d-4d41-ee94-eab09800a680"
      },
      "execution_count": 15,
      "outputs": [
        {
          "output_type": "stream",
          "name": "stdout",
          "text": [
            "Element Available!\n"
          ]
        }
      ]
    },
    {
      "cell_type": "code",
      "source": [
        "if \"Mango\" in tuple1:\n",
        "  print(\"Element Available!\")\n",
        "else:\n",
        "  print(\"Element Unavailable!\")"
      ],
      "metadata": {
        "colab": {
          "base_uri": "https://localhost:8080/"
        },
        "id": "-gHFWY4ztYpB",
        "outputId": "ba71d2f7-287a-4bf2-d145-0a368fad3d0e"
      },
      "execution_count": 14,
      "outputs": [
        {
          "output_type": "stream",
          "name": "stdout",
          "text": [
            "Element Unavailable!\n"
          ]
        }
      ]
    },
    {
      "cell_type": "code",
      "source": [
        "#convert tuple to list\n",
        "list1=list(tuple3)"
      ],
      "metadata": {
        "id": "M4ofUbGztezV"
      },
      "execution_count": 16,
      "outputs": []
    },
    {
      "cell_type": "code",
      "source": [
        "print(list1)"
      ],
      "metadata": {
        "colab": {
          "base_uri": "https://localhost:8080/"
        },
        "id": "mJBc7bNYuR5u",
        "outputId": "101990cb-8089-4afa-e3cb-e561d25a68cf"
      },
      "execution_count": 18,
      "outputs": [
        {
          "output_type": "stream",
          "name": "stdout",
          "text": [
            "['Apple', 'Mango', 'Banana']\n"
          ]
        }
      ]
    },
    {
      "cell_type": "code",
      "source": [
        "#convert tuple to set\n",
        "set1=set(tuple3)"
      ],
      "metadata": {
        "id": "7LwLDCr0uU7j"
      },
      "execution_count": 19,
      "outputs": []
    },
    {
      "cell_type": "code",
      "source": [
        "print(set1)"
      ],
      "metadata": {
        "colab": {
          "base_uri": "https://localhost:8080/"
        },
        "id": "mHjjor5XurTS",
        "outputId": "2bf47366-08e8-4310-8045-08ba9c095f7a"
      },
      "execution_count": 20,
      "outputs": [
        {
          "output_type": "stream",
          "name": "stdout",
          "text": [
            "{'Apple', 'Mango', 'Banana'}\n"
          ]
        }
      ]
    },
    {
      "cell_type": "code",
      "source": [
        "#convert list to tuple\n",
        "tuple4=tuple(list1)"
      ],
      "metadata": {
        "id": "tskYDZDJutor"
      },
      "execution_count": 21,
      "outputs": []
    },
    {
      "cell_type": "code",
      "source": [
        "print(tuple4)"
      ],
      "metadata": {
        "colab": {
          "base_uri": "https://localhost:8080/"
        },
        "id": "8dFM7sC3u5la",
        "outputId": "b9e2ff93-083c-4cc1-d359-0344f78eecdc"
      },
      "execution_count": 22,
      "outputs": [
        {
          "output_type": "stream",
          "name": "stdout",
          "text": [
            "('Apple', 'Mango', 'Banana')\n"
          ]
        }
      ]
    },
    {
      "cell_type": "code",
      "source": [
        "#convert a tuple into a list and then use the append() method to add data items\n",
        "list2=list(tuple1)"
      ],
      "metadata": {
        "id": "QVH5RrXLu8e0"
      },
      "execution_count": 23,
      "outputs": []
    },
    {
      "cell_type": "code",
      "source": [
        "list2.append(\"Orange\")"
      ],
      "metadata": {
        "id": "7aR31rsmvXm_"
      },
      "execution_count": 24,
      "outputs": []
    },
    {
      "cell_type": "code",
      "source": [
        "print(list2)"
      ],
      "metadata": {
        "colab": {
          "base_uri": "https://localhost:8080/"
        },
        "id": "ZIcrozdQve4e",
        "outputId": "d6242037-7aeb-42f8-cf9c-4dee7f6df2f0"
      },
      "execution_count": 25,
      "outputs": [
        {
          "output_type": "stream",
          "name": "stdout",
          "text": [
            "['Apple', 'Banana', 'Cherry', 'Orange']\n"
          ]
        }
      ]
    },
    {
      "cell_type": "code",
      "source": [
        "#remove items in a tuple\n",
        "list2.remove(\"Cherry\")"
      ],
      "metadata": {
        "id": "5tHI2pzwviRr"
      },
      "execution_count": 26,
      "outputs": []
    },
    {
      "cell_type": "code",
      "source": [
        "print(list2)"
      ],
      "metadata": {
        "colab": {
          "base_uri": "https://localhost:8080/"
        },
        "id": "qJUv_UdxweEI",
        "outputId": "ee84b057-b29a-4d88-cd7a-823878f322c0"
      },
      "execution_count": 27,
      "outputs": [
        {
          "output_type": "stream",
          "name": "stdout",
          "text": [
            "['Apple', 'Banana', 'Orange']\n"
          ]
        }
      ]
    },
    {
      "cell_type": "code",
      "source": [
        "del tuple2"
      ],
      "metadata": {
        "id": "TT8cC45qwga_"
      },
      "execution_count": 28,
      "outputs": []
    },
    {
      "cell_type": "code",
      "source": [
        "print(tuple2)"
      ],
      "metadata": {
        "colab": {
          "base_uri": "https://localhost:8080/",
          "height": 165
        },
        "id": "7mj35jyJwnac",
        "outputId": "672c997a-ee9f-421d-d3ca-332aa6e38c8e"
      },
      "execution_count": 29,
      "outputs": [
        {
          "output_type": "error",
          "ename": "NameError",
          "evalue": "ignored",
          "traceback": [
            "\u001b[0;31m---------------------------------------------------------------------------\u001b[0m",
            "\u001b[0;31mNameError\u001b[0m                                 Traceback (most recent call last)",
            "\u001b[0;32m<ipython-input-29-5835a09ca991>\u001b[0m in \u001b[0;36m<module>\u001b[0;34m\u001b[0m\n\u001b[0;32m----> 1\u001b[0;31m \u001b[0mprint\u001b[0m\u001b[0;34m(\u001b[0m\u001b[0mtuple2\u001b[0m\u001b[0;34m)\u001b[0m\u001b[0;34m\u001b[0m\u001b[0;34m\u001b[0m\u001b[0m\n\u001b[0m",
            "\u001b[0;31mNameError\u001b[0m: name 'tuple2' is not defined"
          ]
        }
      ]
    },
    {
      "cell_type": "code",
      "source": [
        "fruits=(\"Apple\",\"Banana\",\"Cherry\") #packing"
      ],
      "metadata": {
        "id": "Uell1Ta8wp0l"
      },
      "execution_count": 30,
      "outputs": []
    },
    {
      "cell_type": "code",
      "source": [
        "(green,yellow,red)=fruits #unpacking"
      ],
      "metadata": {
        "id": "pjV5KDM0w9uD"
      },
      "execution_count": 31,
      "outputs": []
    },
    {
      "cell_type": "code",
      "source": [
        "print(red)"
      ],
      "metadata": {
        "colab": {
          "base_uri": "https://localhost:8080/"
        },
        "id": "zZxaU4bDxP4N",
        "outputId": "ae10f5f9-36d5-4db5-dfa5-3043ce445ac4"
      },
      "execution_count": 32,
      "outputs": [
        {
          "output_type": "stream",
          "name": "stdout",
          "text": [
            "Cherry\n"
          ]
        }
      ]
    },
    {
      "cell_type": "code",
      "source": [
        "print(green)"
      ],
      "metadata": {
        "colab": {
          "base_uri": "https://localhost:8080/"
        },
        "id": "wBIlIH9axTbn",
        "outputId": "cd1b387f-3d31-4b28-ee4e-c51e2db4fd4f"
      },
      "execution_count": 33,
      "outputs": [
        {
          "output_type": "stream",
          "name": "stdout",
          "text": [
            "Apple\n"
          ]
        }
      ]
    },
    {
      "cell_type": "code",
      "source": [
        "for x in fruits:\n",
        "  print(x)"
      ],
      "metadata": {
        "colab": {
          "base_uri": "https://localhost:8080/"
        },
        "id": "gEUzWwwNxWVf",
        "outputId": "2d7ca912-34bf-4a0e-b5ed-f360f90bd317"
      },
      "execution_count": 34,
      "outputs": [
        {
          "output_type": "stream",
          "name": "stdout",
          "text": [
            "Apple\n",
            "Banana\n",
            "Cherry\n"
          ]
        }
      ]
    },
    {
      "cell_type": "code",
      "source": [
        "for i in range (len(fruits)):\n",
        "  print(fruits[i])"
      ],
      "metadata": {
        "colab": {
          "base_uri": "https://localhost:8080/"
        },
        "id": "X8qdbmXcxhmr",
        "outputId": "9760d8bf-8a96-4ff1-8036-63c9f085b661"
      },
      "execution_count": 35,
      "outputs": [
        {
          "output_type": "stream",
          "name": "stdout",
          "text": [
            "Apple\n",
            "Banana\n",
            "Cherry\n"
          ]
        }
      ]
    },
    {
      "cell_type": "code",
      "source": [],
      "metadata": {
        "id": "MJ_T5T1xxtei"
      },
      "execution_count": null,
      "outputs": []
    }
  ]
}